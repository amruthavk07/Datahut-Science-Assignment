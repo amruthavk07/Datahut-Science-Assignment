{
  "nbformat": 4,
  "nbformat_minor": 0,
  "metadata": {
    "colab": {
      "provenance": []
    },
    "kernelspec": {
      "name": "python3",
      "display_name": "Python 3"
    },
    "language_info": {
      "name": "python"
    }
  },
  "cells": [
    {
      "cell_type": "markdown",
      "source": [
        "# 1. Import Libraries"
      ],
      "metadata": {
        "id": "6sgze0HaXHnZ"
      }
    },
    {
      "cell_type": "code",
      "source": [
        "import pandas as pd\n",
        "import numpy as np\n",
        "import re"
      ],
      "metadata": {
        "id": "jWgqccZgXEWe"
      },
      "execution_count": null,
      "outputs": []
    },
    {
      "cell_type": "markdown",
      "source": [
        "# 2. Load Dataset"
      ],
      "metadata": {
        "id": "Kxpc2I8PXO5c"
      }
    },
    {
      "cell_type": "code",
      "source": [
        "df = pd.read_csv(\"/content/drive/MyDrive/Datahut Qa Assignment/women_dresses_raw.csv\")\n",
        "df.head()"
      ],
      "metadata": {
        "colab": {
          "base_uri": "https://localhost:8080/",
          "height": 310
        },
        "id": "Kd77mC7taTh4",
        "outputId": "4ca0e0b7-dbf6-47b1-cd1b-4e407821cc6c"
      },
      "execution_count": null,
      "outputs": [
        {
          "output_type": "execute_result",
          "data": {
            "text/plain": [
              "                                      Product Name          Brand  \\\n",
              "0            Women Layered Black Knee Length Dress        decoris   \n",
              "1   Women Fit and Flare Red Midi/Calf Length Dress  Stylish Arrow   \n",
              "2         Women Gown Maroon Midi/Calf Length Dress       RANGRAIL   \n",
              "3  Women Fit and Flare Blue Midi/Calf Length Dress   Fashion2wear   \n",
              "4         Women A-line Gold Midi/Calf Length Dress        ZWERLON   \n",
              "\n",
              "  Category Type  MRP (Maximum Retail Price)  Discounted Price / Sale Price  \\\n",
              "0           NaN                      1299.0                          258.0   \n",
              "1          Midi                       999.0                          357.0   \n",
              "2          Midi                      2499.0                          369.0   \n",
              "3          Midi                       999.0                          460.0   \n",
              "4          Midi                      1999.0                          414.0   \n",
              "\n",
              "   Rating  Number of Reviews  \\\n",
              "0     4.2              235.0   \n",
              "1     NaN                NaN   \n",
              "2     3.6               12.0   \n",
              "3     3.9              357.0   \n",
              "4     4.1             5344.0   \n",
              "\n",
              "                                         Product URL  \n",
              "0  https://www.flipkart.com/neha-fashions-women-l...  \n",
              "1  https://www.flipkart.com/stylish-arrow-women-f...  \n",
              "2  https://www.flipkart.com/rangrail-women-gown-m...  \n",
              "3  https://www.flipkart.com/fashion2wear-women-fi...  \n",
              "4  https://www.flipkart.com/zwerlon-women-a-line-...  "
            ],
            "text/html": [
              "\n",
              "  <div id=\"df-56c83361-ce0b-4689-9725-3a8196cdadcf\" class=\"colab-df-container\">\n",
              "    <div>\n",
              "<style scoped>\n",
              "    .dataframe tbody tr th:only-of-type {\n",
              "        vertical-align: middle;\n",
              "    }\n",
              "\n",
              "    .dataframe tbody tr th {\n",
              "        vertical-align: top;\n",
              "    }\n",
              "\n",
              "    .dataframe thead th {\n",
              "        text-align: right;\n",
              "    }\n",
              "</style>\n",
              "<table border=\"1\" class=\"dataframe\">\n",
              "  <thead>\n",
              "    <tr style=\"text-align: right;\">\n",
              "      <th></th>\n",
              "      <th>Product Name</th>\n",
              "      <th>Brand</th>\n",
              "      <th>Category Type</th>\n",
              "      <th>MRP (Maximum Retail Price)</th>\n",
              "      <th>Discounted Price / Sale Price</th>\n",
              "      <th>Rating</th>\n",
              "      <th>Number of Reviews</th>\n",
              "      <th>Product URL</th>\n",
              "    </tr>\n",
              "  </thead>\n",
              "  <tbody>\n",
              "    <tr>\n",
              "      <th>0</th>\n",
              "      <td>Women Layered Black Knee Length Dress</td>\n",
              "      <td>decoris</td>\n",
              "      <td>NaN</td>\n",
              "      <td>1299.0</td>\n",
              "      <td>258.0</td>\n",
              "      <td>4.2</td>\n",
              "      <td>235.0</td>\n",
              "      <td>https://www.flipkart.com/neha-fashions-women-l...</td>\n",
              "    </tr>\n",
              "    <tr>\n",
              "      <th>1</th>\n",
              "      <td>Women Fit and Flare Red Midi/Calf Length Dress</td>\n",
              "      <td>Stylish Arrow</td>\n",
              "      <td>Midi</td>\n",
              "      <td>999.0</td>\n",
              "      <td>357.0</td>\n",
              "      <td>NaN</td>\n",
              "      <td>NaN</td>\n",
              "      <td>https://www.flipkart.com/stylish-arrow-women-f...</td>\n",
              "    </tr>\n",
              "    <tr>\n",
              "      <th>2</th>\n",
              "      <td>Women Gown Maroon Midi/Calf Length Dress</td>\n",
              "      <td>RANGRAIL</td>\n",
              "      <td>Midi</td>\n",
              "      <td>2499.0</td>\n",
              "      <td>369.0</td>\n",
              "      <td>3.6</td>\n",
              "      <td>12.0</td>\n",
              "      <td>https://www.flipkart.com/rangrail-women-gown-m...</td>\n",
              "    </tr>\n",
              "    <tr>\n",
              "      <th>3</th>\n",
              "      <td>Women Fit and Flare Blue Midi/Calf Length Dress</td>\n",
              "      <td>Fashion2wear</td>\n",
              "      <td>Midi</td>\n",
              "      <td>999.0</td>\n",
              "      <td>460.0</td>\n",
              "      <td>3.9</td>\n",
              "      <td>357.0</td>\n",
              "      <td>https://www.flipkart.com/fashion2wear-women-fi...</td>\n",
              "    </tr>\n",
              "    <tr>\n",
              "      <th>4</th>\n",
              "      <td>Women A-line Gold Midi/Calf Length Dress</td>\n",
              "      <td>ZWERLON</td>\n",
              "      <td>Midi</td>\n",
              "      <td>1999.0</td>\n",
              "      <td>414.0</td>\n",
              "      <td>4.1</td>\n",
              "      <td>5344.0</td>\n",
              "      <td>https://www.flipkart.com/zwerlon-women-a-line-...</td>\n",
              "    </tr>\n",
              "  </tbody>\n",
              "</table>\n",
              "</div>\n",
              "    <div class=\"colab-df-buttons\">\n",
              "\n",
              "  <div class=\"colab-df-container\">\n",
              "    <button class=\"colab-df-convert\" onclick=\"convertToInteractive('df-56c83361-ce0b-4689-9725-3a8196cdadcf')\"\n",
              "            title=\"Convert this dataframe to an interactive table.\"\n",
              "            style=\"display:none;\">\n",
              "\n",
              "  <svg xmlns=\"http://www.w3.org/2000/svg\" height=\"24px\" viewBox=\"0 -960 960 960\">\n",
              "    <path d=\"M120-120v-720h720v720H120Zm60-500h600v-160H180v160Zm220 220h160v-160H400v160Zm0 220h160v-160H400v160ZM180-400h160v-160H180v160Zm440 0h160v-160H620v160ZM180-180h160v-160H180v160Zm440 0h160v-160H620v160Z\"/>\n",
              "  </svg>\n",
              "    </button>\n",
              "\n",
              "  <style>\n",
              "    .colab-df-container {\n",
              "      display:flex;\n",
              "      gap: 12px;\n",
              "    }\n",
              "\n",
              "    .colab-df-convert {\n",
              "      background-color: #E8F0FE;\n",
              "      border: none;\n",
              "      border-radius: 50%;\n",
              "      cursor: pointer;\n",
              "      display: none;\n",
              "      fill: #1967D2;\n",
              "      height: 32px;\n",
              "      padding: 0 0 0 0;\n",
              "      width: 32px;\n",
              "    }\n",
              "\n",
              "    .colab-df-convert:hover {\n",
              "      background-color: #E2EBFA;\n",
              "      box-shadow: 0px 1px 2px rgba(60, 64, 67, 0.3), 0px 1px 3px 1px rgba(60, 64, 67, 0.15);\n",
              "      fill: #174EA6;\n",
              "    }\n",
              "\n",
              "    .colab-df-buttons div {\n",
              "      margin-bottom: 4px;\n",
              "    }\n",
              "\n",
              "    [theme=dark] .colab-df-convert {\n",
              "      background-color: #3B4455;\n",
              "      fill: #D2E3FC;\n",
              "    }\n",
              "\n",
              "    [theme=dark] .colab-df-convert:hover {\n",
              "      background-color: #434B5C;\n",
              "      box-shadow: 0px 1px 3px 1px rgba(0, 0, 0, 0.15);\n",
              "      filter: drop-shadow(0px 1px 2px rgba(0, 0, 0, 0.3));\n",
              "      fill: #FFFFFF;\n",
              "    }\n",
              "  </style>\n",
              "\n",
              "    <script>\n",
              "      const buttonEl =\n",
              "        document.querySelector('#df-56c83361-ce0b-4689-9725-3a8196cdadcf button.colab-df-convert');\n",
              "      buttonEl.style.display =\n",
              "        google.colab.kernel.accessAllowed ? 'block' : 'none';\n",
              "\n",
              "      async function convertToInteractive(key) {\n",
              "        const element = document.querySelector('#df-56c83361-ce0b-4689-9725-3a8196cdadcf');\n",
              "        const dataTable =\n",
              "          await google.colab.kernel.invokeFunction('convertToInteractive',\n",
              "                                                    [key], {});\n",
              "        if (!dataTable) return;\n",
              "\n",
              "        const docLinkHtml = 'Like what you see? Visit the ' +\n",
              "          '<a target=\"_blank\" href=https://colab.research.google.com/notebooks/data_table.ipynb>data table notebook</a>'\n",
              "          + ' to learn more about interactive tables.';\n",
              "        element.innerHTML = '';\n",
              "        dataTable['output_type'] = 'display_data';\n",
              "        await google.colab.output.renderOutput(dataTable, element);\n",
              "        const docLink = document.createElement('div');\n",
              "        docLink.innerHTML = docLinkHtml;\n",
              "        element.appendChild(docLink);\n",
              "      }\n",
              "    </script>\n",
              "  </div>\n",
              "\n",
              "\n",
              "    <div id=\"df-98153e5e-8131-49cd-b66e-1207720ada70\">\n",
              "      <button class=\"colab-df-quickchart\" onclick=\"quickchart('df-98153e5e-8131-49cd-b66e-1207720ada70')\"\n",
              "                title=\"Suggest charts\"\n",
              "                style=\"display:none;\">\n",
              "\n",
              "<svg xmlns=\"http://www.w3.org/2000/svg\" height=\"24px\"viewBox=\"0 0 24 24\"\n",
              "     width=\"24px\">\n",
              "    <g>\n",
              "        <path d=\"M19 3H5c-1.1 0-2 .9-2 2v14c0 1.1.9 2 2 2h14c1.1 0 2-.9 2-2V5c0-1.1-.9-2-2-2zM9 17H7v-7h2v7zm4 0h-2V7h2v10zm4 0h-2v-4h2v4z\"/>\n",
              "    </g>\n",
              "</svg>\n",
              "      </button>\n",
              "\n",
              "<style>\n",
              "  .colab-df-quickchart {\n",
              "      --bg-color: #E8F0FE;\n",
              "      --fill-color: #1967D2;\n",
              "      --hover-bg-color: #E2EBFA;\n",
              "      --hover-fill-color: #174EA6;\n",
              "      --disabled-fill-color: #AAA;\n",
              "      --disabled-bg-color: #DDD;\n",
              "  }\n",
              "\n",
              "  [theme=dark] .colab-df-quickchart {\n",
              "      --bg-color: #3B4455;\n",
              "      --fill-color: #D2E3FC;\n",
              "      --hover-bg-color: #434B5C;\n",
              "      --hover-fill-color: #FFFFFF;\n",
              "      --disabled-bg-color: #3B4455;\n",
              "      --disabled-fill-color: #666;\n",
              "  }\n",
              "\n",
              "  .colab-df-quickchart {\n",
              "    background-color: var(--bg-color);\n",
              "    border: none;\n",
              "    border-radius: 50%;\n",
              "    cursor: pointer;\n",
              "    display: none;\n",
              "    fill: var(--fill-color);\n",
              "    height: 32px;\n",
              "    padding: 0;\n",
              "    width: 32px;\n",
              "  }\n",
              "\n",
              "  .colab-df-quickchart:hover {\n",
              "    background-color: var(--hover-bg-color);\n",
              "    box-shadow: 0 1px 2px rgba(60, 64, 67, 0.3), 0 1px 3px 1px rgba(60, 64, 67, 0.15);\n",
              "    fill: var(--button-hover-fill-color);\n",
              "  }\n",
              "\n",
              "  .colab-df-quickchart-complete:disabled,\n",
              "  .colab-df-quickchart-complete:disabled:hover {\n",
              "    background-color: var(--disabled-bg-color);\n",
              "    fill: var(--disabled-fill-color);\n",
              "    box-shadow: none;\n",
              "  }\n",
              "\n",
              "  .colab-df-spinner {\n",
              "    border: 2px solid var(--fill-color);\n",
              "    border-color: transparent;\n",
              "    border-bottom-color: var(--fill-color);\n",
              "    animation:\n",
              "      spin 1s steps(1) infinite;\n",
              "  }\n",
              "\n",
              "  @keyframes spin {\n",
              "    0% {\n",
              "      border-color: transparent;\n",
              "      border-bottom-color: var(--fill-color);\n",
              "      border-left-color: var(--fill-color);\n",
              "    }\n",
              "    20% {\n",
              "      border-color: transparent;\n",
              "      border-left-color: var(--fill-color);\n",
              "      border-top-color: var(--fill-color);\n",
              "    }\n",
              "    30% {\n",
              "      border-color: transparent;\n",
              "      border-left-color: var(--fill-color);\n",
              "      border-top-color: var(--fill-color);\n",
              "      border-right-color: var(--fill-color);\n",
              "    }\n",
              "    40% {\n",
              "      border-color: transparent;\n",
              "      border-right-color: var(--fill-color);\n",
              "      border-top-color: var(--fill-color);\n",
              "    }\n",
              "    60% {\n",
              "      border-color: transparent;\n",
              "      border-right-color: var(--fill-color);\n",
              "    }\n",
              "    80% {\n",
              "      border-color: transparent;\n",
              "      border-right-color: var(--fill-color);\n",
              "      border-bottom-color: var(--fill-color);\n",
              "    }\n",
              "    90% {\n",
              "      border-color: transparent;\n",
              "      border-bottom-color: var(--fill-color);\n",
              "    }\n",
              "  }\n",
              "</style>\n",
              "\n",
              "      <script>\n",
              "        async function quickchart(key) {\n",
              "          const quickchartButtonEl =\n",
              "            document.querySelector('#' + key + ' button');\n",
              "          quickchartButtonEl.disabled = true;  // To prevent multiple clicks.\n",
              "          quickchartButtonEl.classList.add('colab-df-spinner');\n",
              "          try {\n",
              "            const charts = await google.colab.kernel.invokeFunction(\n",
              "                'suggestCharts', [key], {});\n",
              "          } catch (error) {\n",
              "            console.error('Error during call to suggestCharts:', error);\n",
              "          }\n",
              "          quickchartButtonEl.classList.remove('colab-df-spinner');\n",
              "          quickchartButtonEl.classList.add('colab-df-quickchart-complete');\n",
              "        }\n",
              "        (() => {\n",
              "          let quickchartButtonEl =\n",
              "            document.querySelector('#df-98153e5e-8131-49cd-b66e-1207720ada70 button');\n",
              "          quickchartButtonEl.style.display =\n",
              "            google.colab.kernel.accessAllowed ? 'block' : 'none';\n",
              "        })();\n",
              "      </script>\n",
              "    </div>\n",
              "\n",
              "    </div>\n",
              "  </div>\n"
            ],
            "application/vnd.google.colaboratory.intrinsic+json": {
              "type": "dataframe",
              "variable_name": "df",
              "summary": "{\n  \"name\": \"df\",\n  \"rows\": 998,\n  \"fields\": [\n    {\n      \"column\": \"Product Name\",\n      \"properties\": {\n        \"dtype\": \"category\",\n        \"num_unique_values\": 390,\n        \"samples\": [\n          \"Women Bodycon Purple Midi/Calf Length Dress\",\n          \"Women Fit and Flare Blue, White Midi/Calf Length Dress\",\n          \"Women Fit and Flare Green Midi/Calf Length Dress\"\n        ],\n        \"semantic_type\": \"\",\n        \"description\": \"\"\n      }\n    },\n    {\n      \"column\": \"Brand\",\n      \"properties\": {\n        \"dtype\": \"category\",\n        \"num_unique_values\": 239,\n        \"samples\": [\n          \"Jash Creation\",\n          \"Sheetal Associates\",\n          \"Dressberry\"\n        ],\n        \"semantic_type\": \"\",\n        \"description\": \"\"\n      }\n    },\n    {\n      \"column\": \"Category Type\",\n      \"properties\": {\n        \"dtype\": \"category\",\n        \"num_unique_values\": 8,\n        \"samples\": [\n          \"Maxi\",\n          \"Kaftan\",\n          \"Midi\"\n        ],\n        \"semantic_type\": \"\",\n        \"description\": \"\"\n      }\n    },\n    {\n      \"column\": \"MRP (Maximum Retail Price)\",\n      \"properties\": {\n        \"dtype\": \"number\",\n        \"std\": 744.2682186312084,\n        \"min\": 299.0,\n        \"max\": 5995.0,\n        \"num_unique_values\": 112,\n        \"samples\": [\n          1249.0,\n          4599.0,\n          1699.0\n        ],\n        \"semantic_type\": \"\",\n        \"description\": \"\"\n      }\n    },\n    {\n      \"column\": \"Discounted Price / Sale Price\",\n      \"properties\": {\n        \"dtype\": \"number\",\n        \"std\": 209.85093942619213,\n        \"min\": 200.0,\n        \"max\": 1517.0,\n        \"num_unique_values\": 288,\n        \"samples\": [\n          423.0,\n          695.0,\n          299.0\n        ],\n        \"semantic_type\": \"\",\n        \"description\": \"\"\n      }\n    },\n    {\n      \"column\": \"Rating\",\n      \"properties\": {\n        \"dtype\": \"number\",\n        \"std\": 0.27133347990837614,\n        \"min\": 2.8,\n        \"max\": 5.0,\n        \"num_unique_values\": 21,\n        \"samples\": [\n          4.2,\n          3.4,\n          4.5\n        ],\n        \"semantic_type\": \"\",\n        \"description\": \"\"\n      }\n    },\n    {\n      \"column\": \"Number of Reviews\",\n      \"properties\": {\n        \"dtype\": \"number\",\n        \"std\": 1084.7838367623892,\n        \"min\": 0.0,\n        \"max\": 9511.0,\n        \"num_unique_values\": 232,\n        \"samples\": [\n          44.0,\n          30.0,\n          345.0\n        ],\n        \"semantic_type\": \"\",\n        \"description\": \"\"\n      }\n    },\n    {\n      \"column\": \"Product URL\",\n      \"properties\": {\n        \"dtype\": \"string\",\n        \"num_unique_values\": 691,\n        \"samples\": [\n          \"https://www.flipkart.com/globus-women-bodycon-black-above-knee-mid-thigh-length-dress/p/itmdacd9bb2d234b\",\n          \"https://www.flipkart.com/aayu-women-fit-flare-white-pink-midi-calf-length-dress/p/itm845f67e224623\",\n          \"https://www.flipkart.com/sheladiya-women-fit-flare-green-midi-calf-length-dress/p/itm05859d1271a28\"\n        ],\n        \"semantic_type\": \"\",\n        \"description\": \"\"\n      }\n    }\n  ]\n}"
            }
          },
          "metadata": {},
          "execution_count": 2
        }
      ]
    },
    {
      "cell_type": "markdown",
      "source": [
        "# 3. Check & Remove Duplicates"
      ],
      "metadata": {
        "id": "tqe6kqlrXS82"
      }
    },
    {
      "cell_type": "code",
      "source": [
        "print(f\"Duplicate rows (%): {df.duplicated().mean() * 100}\")"
      ],
      "metadata": {
        "colab": {
          "base_uri": "https://localhost:8080/"
        },
        "id": "asYlw8l0amQc",
        "outputId": "cd896720-52c2-444f-81ac-e06a10af6d37"
      },
      "execution_count": null,
      "outputs": [
        {
          "output_type": "stream",
          "name": "stdout",
          "text": [
            "Duplicate rows (%): 30.561122244488974\n"
          ]
        }
      ]
    },
    {
      "cell_type": "code",
      "source": [
        "df.drop_duplicates(inplace=True)"
      ],
      "metadata": {
        "id": "8AkmtWoLcj7F"
      },
      "execution_count": null,
      "outputs": []
    },
    {
      "cell_type": "code",
      "source": [
        "print(f\"Remaining duplicate rows: {df.duplicated().sum()}\")"
      ],
      "metadata": {
        "colab": {
          "base_uri": "https://localhost:8080/"
        },
        "id": "1KkLlQeUcleB",
        "outputId": "e634cb15-f752-46a7-f599-7c038055719e"
      },
      "execution_count": null,
      "outputs": [
        {
          "output_type": "stream",
          "name": "stdout",
          "text": [
            "Remaining duplicate rows: 0\n"
          ]
        }
      ]
    },
    {
      "cell_type": "markdown",
      "source": [
        "# 4. Handle Missing Values"
      ],
      "metadata": {
        "id": "58kdw-ZfXrMb"
      }
    },
    {
      "cell_type": "code",
      "source": [
        "print(f\"Missing values: {df.isnull().sum() * 100/len(df)}\")"
      ],
      "metadata": {
        "colab": {
          "base_uri": "https://localhost:8080/"
        },
        "id": "LPndd3lecm6S",
        "outputId": "a1aa162b-bdeb-4afc-aa9b-744618c9923b"
      },
      "execution_count": null,
      "outputs": [
        {
          "output_type": "stream",
          "name": "stdout",
          "text": [
            "Missing values: Product Name                     0.000000\n",
            "Brand                            0.000000\n",
            "Category Type                    9.668110\n",
            "MRP (Maximum Retail Price)       0.432900\n",
            "Discounted Price / Sale Price    0.432900\n",
            "Rating                           4.473304\n",
            "Number of Reviews                4.473304\n",
            "Product URL                      0.000000\n",
            "dtype: float64\n"
          ]
        }
      ]
    },
    {
      "cell_type": "code",
      "source": [
        "#  Drop rows where critical price info is missing\n",
        "df_cleaned=df.dropna(subset=[\"MRP (Maximum Retail Price)\", \"Discounted Price / Sale Price\"])"
      ],
      "metadata": {
        "id": "KM3K6SfNe6X-"
      },
      "execution_count": null,
      "outputs": []
    },
    {
      "cell_type": "code",
      "source": [
        "df_cleaned.loc[:, \"Rating\"] = df_cleaned[\"Rating\"].fillna(0)\n",
        "df_cleaned.loc[:, \"Number of Reviews\"] = df_cleaned[\"Number of Reviews\"].fillna(0)\n",
        "df_cleaned.loc[:, \"Category Type\"] = df_cleaned[\"Category Type\"].fillna(\"Unknown\")"
      ],
      "metadata": {
        "id": "r91BeczbgTWL"
      },
      "execution_count": null,
      "outputs": []
    },
    {
      "cell_type": "code",
      "source": [
        "print(f\"Missing values: {df_cleaned.isnull().sum() * 100/len(df_cleaned)}\")"
      ],
      "metadata": {
        "colab": {
          "base_uri": "https://localhost:8080/"
        },
        "id": "HgURR3pzfOSc",
        "outputId": "08f87357-6d9e-4014-ade0-14de0516d91b"
      },
      "execution_count": null,
      "outputs": [
        {
          "output_type": "stream",
          "name": "stdout",
          "text": [
            "Missing values: Product Name                     0.0\n",
            "Brand                            0.0\n",
            "Category Type                    0.0\n",
            "MRP (Maximum Retail Price)       0.0\n",
            "Discounted Price / Sale Price    0.0\n",
            "Rating                           0.0\n",
            "Number of Reviews                0.0\n",
            "Product URL                      0.0\n",
            "dtype: float64\n"
          ]
        }
      ]
    },
    {
      "cell_type": "markdown",
      "source": [
        "# 5. Ensure Numeric Columns"
      ],
      "metadata": {
        "id": "Bia3SO7AYaQY"
      }
    },
    {
      "cell_type": "code",
      "source": [
        "df_cleaned[[\"MRP (Maximum Retail Price)\",\n",
        "    \"Discounted Price / Sale Price\",\n",
        "    \"Rating\",\n",
        "    \"Number of Reviews\"]].dtypes\n"
      ],
      "metadata": {
        "colab": {
          "base_uri": "https://localhost:8080/",
          "height": 209
        },
        "id": "DLat5PVEjTOm",
        "outputId": "50f0e908-46c4-4495-c777-4b0414713173"
      },
      "execution_count": null,
      "outputs": [
        {
          "output_type": "execute_result",
          "data": {
            "text/plain": [
              "MRP (Maximum Retail Price)       float64\n",
              "Discounted Price / Sale Price    float64\n",
              "Rating                           float64\n",
              "Number of Reviews                float64\n",
              "dtype: object"
            ],
            "text/html": [
              "<div>\n",
              "<style scoped>\n",
              "    .dataframe tbody tr th:only-of-type {\n",
              "        vertical-align: middle;\n",
              "    }\n",
              "\n",
              "    .dataframe tbody tr th {\n",
              "        vertical-align: top;\n",
              "    }\n",
              "\n",
              "    .dataframe thead th {\n",
              "        text-align: right;\n",
              "    }\n",
              "</style>\n",
              "<table border=\"1\" class=\"dataframe\">\n",
              "  <thead>\n",
              "    <tr style=\"text-align: right;\">\n",
              "      <th></th>\n",
              "      <th>0</th>\n",
              "    </tr>\n",
              "  </thead>\n",
              "  <tbody>\n",
              "    <tr>\n",
              "      <th>MRP (Maximum Retail Price)</th>\n",
              "      <td>float64</td>\n",
              "    </tr>\n",
              "    <tr>\n",
              "      <th>Discounted Price / Sale Price</th>\n",
              "      <td>float64</td>\n",
              "    </tr>\n",
              "    <tr>\n",
              "      <th>Rating</th>\n",
              "      <td>float64</td>\n",
              "    </tr>\n",
              "    <tr>\n",
              "      <th>Number of Reviews</th>\n",
              "      <td>float64</td>\n",
              "    </tr>\n",
              "  </tbody>\n",
              "</table>\n",
              "</div><br><label><b>dtype:</b> object</label>"
            ]
          },
          "metadata": {},
          "execution_count": 10
        }
      ]
    },
    {
      "cell_type": "markdown",
      "source": [
        "**The columns MRP (Maximum Retail Price), Discounted Price / Sale Price, Rating, and Number of Reviews were already in numeric (float64) format.**"
      ],
      "metadata": {
        "id": "0wQwNQqLYgfR"
      }
    },
    {
      "cell_type": "markdown",
      "source": [
        "# 6. Brand Cleaning & Standardization"
      ],
      "metadata": {
        "id": "PfTSZmmvYWsz"
      }
    },
    {
      "cell_type": "code",
      "source": [
        "unique_brands = df_cleaned['Brand'].unique()\n",
        "print(\"✅ Unique Brands:\", unique_brands)\n",
        "print(\"\\nTotal unique brands:\", df_cleaned['Brand'].nunique())"
      ],
      "metadata": {
        "colab": {
          "base_uri": "https://localhost:8080/"
        },
        "id": "END6S-I2ksEg",
        "outputId": "6d4f3a7f-f8b3-4926-d355-4b348de7c2f8"
      },
      "execution_count": null,
      "outputs": [
        {
          "output_type": "stream",
          "name": "stdout",
          "text": [
            "✅ Unique Brands: ['decoris' 'Stylish Arrow' 'RANGRAIL' 'Fashion2wear' 'ZWERLON' 'AAYU'\n",
            " 'Sheetal Associates' 'Road Rider' 'Dream Tree' 'london belly' 'TANDUL'\n",
            " 'LuxeStyle' 'TIARA WORLD' 'Attire Empire' 'Crown Creation' 'Honky Tonky'\n",
            " 'IQRAAR' 'Daevish' 'PURSHOTTAM WALA' 'Tokyo Talkies' 'DRAPE AND DAZZLE'\n",
            " 'Aahwan' 'Krishna Enterprises' 'NG CREATION' 'Jash Creation'\n",
            " 'COTTON MULMUL STORE' 'Kirav Ventures' 'AASK' 'MANOJAVA' 'DIPANI'\n",
            " 'GAZLA FASHION' 'Pant n lites' 'PURVAJA' 'Evergreen trend' 'Bhawanaprint'\n",
            " 'Moda Rapido' 'DORESUZAA' 'Deklook' 'Uptownie Lite' 'ANOUK' 'Rudraaksha'\n",
            " 'Gujari' 'PLUSS' 'Ethniclook' 'Asmi Myra' 'TULSATTVA' 'STREET9'\n",
            " 'JAHU MART' 'Janasya' 'Vishudh' 'Miss Chase' 'VYMO' 'CHERIMODA' 'TIVANTE'\n",
            " 'indibelle' 'VBUYZ' 'Stylum' 'Emeros' 'Demirner' 'Siddiqa Creation'\n",
            " 'MUDRAS FASHION' 'Jaipuri Bunaai' 'KRULRIN' 'Get Glamr' 'Globus'\n",
            " 'Be4Me.com' 'HARPA' 'TESSAVEGAS' 'woclo enterprise' 'God Bless'\n",
            " 'Sidh Sawai' 'SASSAFRAS' 'DMPRSN' 'Dviera Trendz' 'Nayo'\n",
            " 'Shakshi Creations' 'RARE' 'Mialo fashion' 'Juniper' 'NK DESIGN' 'LEETOS'\n",
            " 'Codaisy' 'Ziva Fashion' 'ZOPDI' 'HouseOfCommon' 'Selvia' 'SupBir'\n",
            " 'Glomee' 'U&F' 'Sheffali Creation' 'KETCH' 'WAZIX Clothing' 'Dressberry'\n",
            " 'ATHENA' 'Instafab Plus' 'sheladiya' 'RIEKA' 'Negen' 'Mishti Fashion'\n",
            " 'Twirl Tales' 'SV SUVEENA' 'JWF' 'Khushi Fab' 'QUIERO' 'Herway' 'Presha'\n",
            " 'CoolAndCasual' 'MANISUKMI FASHION' 'RKK Collection' 'WineRed' 'Oomph!'\n",
            " 'Pehnava Point' 'RAPL BHARAT' 'FASHION CLOUD' 'KOTTY' 'ADITYA COLLECTION'\n",
            " 'Tilton' 'Modli 20 Fashion' 'Rare Fashion' 'Glolick' 'asifarheen'\n",
            " 'SLENOR' 'kair' 'Henal' 'YOVINA' 'STYLESTONE' 'simran collections'\n",
            " 'Rebikatrendz' 'Vaararo' 'Sifoz' 'PRISTYLE' 'DIVENA' 'polka fashion'\n",
            " 'Life With Pockets' 'BHAGLI' 'NG Store' 'Fashion Unstoppable' 'AASHLEY'\n",
            " 'French Connection' 'HANDSOME KING' 'S P STOUR' 'starword' 'Dwarros'\n",
            " 'Maruti Nandan Impex' 'Rosery Paris' 'Sztori' 'SN STUDIO' 'AARIKAARI'\n",
            " 'kalaliya' 'RUNICHA' 'SASSAFRAS Curve' 'A S fashion' 'Apnisha' 'FANCIFY'\n",
            " 'SATVEER FASHION' 'Purple Flaunt' 'Assamica' 'THE DRY STATE'\n",
            " 'Leriya Fashion' 'FabFairy' 'RD Fab' 'KASSUALLY' 'LookShine' 'Nehamta'\n",
            " 'GonerDham' 'BHARDVAJ K FAB' 'JKMisti' 'diyaz' 'kilkilat' 'ADDYVERO'\n",
            " 'Enchanted Drapes' 'SCHIFFLI' 'WHOOSEE' 'ADDICTED ATTIRE' 'ANUOM'\n",
            " 'JN LOFTY' 'Fabrisacreation' 'RAAKA' 'WoowZerZ' 'lahaba' 'MAA AMAR FAB'\n",
            " 'Akshara Fashion' 'SIRROWFAB' 'METRONAUT' 'Prettyplus by Desinoor'\n",
            " 'irtiqa' 'ASFEBRICS' 'GROMint' 'EyeBogler' 'MAHESVAR' 'KAMAYRA' 'KPF'\n",
            " 'Punky' 'SURGILINE' 'Fbella' 'BuyUniqueFashion' 'Traquila' 'ONIYURI'\n",
            " 'OMI' 'Kalki Fashion' 'JIYAKURTI' 'HARIVANI' 'Labhanshi Creation'\n",
            " 'Shrivani' 'Pahnaava' 'Kotton Maxx' 'ELITESTAR' 'OTABU' 'FLORINEST'\n",
            " 'FabVerse' 'SANA FASHIONS' 'OZEX' 'RIGO' 'NWH' 'Clothmagnet' 'FOXDX'\n",
            " 'MAX' 'ZAYNFASHION' 'Gulabi Jaipur' 'Berrylush Curve' 'flowervelly'\n",
            " 'JMDEnterprises' 'ZARVEY' 'CADIZAR' 'LEVIFIELD' 'Raiyani Enterprise'\n",
            " 'GLAMALUE' 'Prime Mart' 'vijay garments' 'Qena' 'FabFinds' 'Deewa'\n",
            " 'Malia Fashion' 'KASHISHIYA' 'hardik fab' 'maaesa']\n",
            "\n",
            "Total unique brands: 236\n"
          ]
        }
      ]
    },
    {
      "cell_type": "code",
      "source": [
        "# Manual brand mapping\n",
        "brand_mapping = {\n",
        "    # NG variations\n",
        "    \"ng fashion\": \"Ng\",\n",
        "    \"ng store\": \"Ng\",\n",
        "    \"Ng Creation\": \"Ng\",\n",
        "\n",
        "    # Rare variations\n",
        "    \"Rare Fashion\": \"Rare\",\n",
        "    \"rare\": \"Rare\",\n",
        "\n",
        "    # Sassafras variations\n",
        "    \"sassafras\": \"Sassafras\",\n",
        "    \"Sassafras Curve\": \"Sassafras\",\n",
        "\n",
        "    # Prettyplus variations\n",
        "    \"prettyplus\": \"Prettyplus\",\n",
        "    \"Prettyplus By Desinoor\": \"Prettyplus\",\n",
        "\n",
        "    # Berrylush variations\n",
        "    \"berrylush curve\": \"Berrylush\",\n",
        "    \"berrylush\": \"Berrylush\",\n",
        "\n",
        "    # As Fashion variations\n",
        "    \"as fashion\": \"As fashion\",\n",
        "    \"A S Fashion\": \"As fashion\",\n",
        "\n",
        "    # Herway variations\n",
        "    \"herway\": \"Herway\",\n",
        "    \"herby invictus\": \"Herway\",\n",
        "\n",
        "    # Moda rapido variations\n",
        "    \"Modli  Fashion\": \"Modli  Fashion \",\n",
        "    \"modli 20 fashion\": \"Modli  Fashion\",\n",
        "    \"Modli  Fashion\" : \"Modli  Fashion\",\n",
        "\n",
        "    # Be4Me variations\n",
        "    \"be4mecom\": \"Be4me\",\n",
        "    \"be4me.com\": \"Be4me\",\n",
        "\n",
        "    # U&F variations\n",
        "    \"Uf\": \"U&F\",\n",
        "    \"u & f\": \"U&F\",\n",
        "\n",
        "    # Zayn variations\n",
        "    \"Zaynfashion\": \"Zayn\",\n",
        "\n",
        "    # Gulabi Jaipur\n",
        "    \"gulabi jaipur\": \"Gulabi\",\n",
        "\n",
        "    # Life With Pockets variations\n",
        "    \"life with pockets\": \"Life with pockets\",\n",
        "    \"life w pockets\": \"Life with pockets\",\n",
        "\n",
        "    # Oomph variations\n",
        "    \"oomph\": \"Oomph\",\n",
        "    \"oomph!\": \"Oomph\",\n",
        "\n",
        "\n",
        "    # French Connection\n",
        "    \"french connection\": \"French connection\",\n",
        "    \"frenchconnectn\": \"French connection\",\n",
        "\n",
        "    # Dressberry\n",
        "    \"dressberry\": \"Dressberry\",\n",
        "    \"dress berry\": \"Dressberry\",\n",
        "\n",
        "    # Ketch\n",
        "    \"ketch\": \"Ketch\",\n",
        "    \"ketch fashion\": \"Ketch\",\n",
        "\n",
        "    # Vishudh\n",
        "    \"vishudh\": \"Vishudh\",\n",
        "    \"vishud\": \"Vishudh\",\n",
        "\n",
        "    # Stylestone\n",
        "    \"stylestone\": \"Stylestone\",\n",
        "    \"style stone\": \"Stylestone\",\n",
        "\n",
        "    # Instafab\n",
        "    \"instafab plus\": \"Instafab\",\n",
        "\n",
        "    # Pluss\n",
        "    \"Pluss\": \"Plus\",\n",
        "    \"plus\": \"Plus\",\n",
        "\n",
        "    # Others\n",
        "    \"Fashionwear\": \"Fashion wear\",\n",
        "    \"Crown Creation\" : \"Crown\",\n",
        "    \"Krishna Enterprises\" : \"Krishna\",\n",
        "    \"Jash Creation\" : \"Jash\",\n",
        "    \"Stylestone\" : \"Style stone\",\n",
        "    \"Ethniclook\" : \"Ethnic look\",\n",
        "    \"cotton mulmul store\": \"Cotton mulmul\",\n",
        "    \"road rider\": \"Road rider\",\n",
        "    \"woclo enterprise\": \"Woclo\",\n",
        "    \"Houseofmmon\": \"House of common\",\n",
        "    'Sheetal Associates': \"Sheetal\",\n",
        "    \"Bhawanaprint\": \"Bhawana print\",\n",
        "    \"jmdenterprises\": \"Jmd\",\n",
        "    \"maruti nandan impex\": \"Maruti nandan\",\n",
        "    \"manisukmi fashion\": \"Manisukmi\",\n",
        "    \"labhanshi creation\": \"Labhanshi\",\n",
        "    \"Siddiqa Creation\": \"Siddiqa\",\n",
        "    \"Shakshi Creations\": \"Shakshi\",\n",
        "    \"Simran Llections\": \"Simran\",\n",
        "    \"Sheffali Creation\" : \"Sheffali\",\n",
        "    \"Buyuniquefashion\" : \"Buy unique Fashion\"\n",
        "}\n",
        "\n"
      ],
      "metadata": {
        "id": "mRuU-EncqOik"
      },
      "execution_count": null,
      "outputs": []
    },
    {
      "cell_type": "code",
      "source": [
        "#  Cleaning function for brands\n",
        "\n",
        "def clean_brand(brand):\n",
        "    brand = str(brand).strip()\n",
        "    brand = re.sub(r'\\.com$', '', brand)\n",
        "    brand = re.sub(r'inc\\.?|ltd\\.?|store|ag|co\\.?|corporation', '', brand, flags=re.I)  # remove suffixes\n",
        "    brand = re.sub(r'[^a-zA-Z\\s]', '', brand)\n",
        "    brand = brand.title().strip()\n",
        "    return brand\n",
        "\n",
        "# Apply cleaning function\n",
        "df_cleaned.loc[:, 'Brand'] = df_cleaned['Brand'].apply(clean_brand)\n",
        "\n",
        "#  Apply manual mapping\n",
        "df_cleaned.loc[:, 'Brand'] = df_cleaned['Brand'].replace(brand_mapping)"
      ],
      "metadata": {
        "id": "cD3z966NqM06"
      },
      "execution_count": null,
      "outputs": []
    },
    {
      "cell_type": "markdown",
      "source": [
        "# 7. Check Brands & Counts"
      ],
      "metadata": {
        "id": "UT5oSCaNZBFf"
      }
    },
    {
      "cell_type": "code",
      "source": [
        "unique_brands = df_cleaned['Brand'].unique()\n",
        "print(\"✅ Unique brands after cleaning and mapping:\")\n",
        "print(unique_brands)\n",
        "\n",
        "# count how many times each brand appears\n",
        "brand_counts = df_cleaned['Brand'].value_counts()\n",
        "print(\"\\n✅ Brand counts:\")\n",
        "print(brand_counts)"
      ],
      "metadata": {
        "colab": {
          "base_uri": "https://localhost:8080/"
        },
        "id": "7XCvxlUw1DjB",
        "outputId": "b44786b0-6aee-4f7c-a7bd-6eb183dfe977"
      },
      "execution_count": null,
      "outputs": [
        {
          "output_type": "stream",
          "name": "stdout",
          "text": [
            "✅ Unique brands after cleaning and mapping:\n",
            "['Deris' 'Stylish Arrow' 'Rangrail' 'Fashion wear' 'Zwerlon' 'Aayu'\n",
            " 'Sheetal' 'Road Rider' 'Dream Tree' 'London Belly' 'Tandul' 'Luxestyle'\n",
            " 'Tiara World' 'Attire Empire' 'Crown' 'Honky Tonky' 'Iqraar' 'Daevish'\n",
            " 'Purshottam Wala' 'Tokyo Talkies' 'Drape And Dazzle' 'Aahwan' 'Krishna'\n",
            " 'Ng' 'Jash' 'Tton Mulmul' 'Kirav Ventures' 'Aask' 'Manojava' 'Dipani'\n",
            " 'Gazla Fashion' 'Pant N Lites' 'Purvaja' 'Evergreen Trend'\n",
            " 'Bhawana print' 'Moda Rapido' 'Doresuzaa' 'Deklook' 'Uptownie Lite'\n",
            " 'Anouk' 'Rudraaksha' 'Gujari' 'Plus' 'Ethnic look' 'Asmi Myra'\n",
            " 'Tulsattva' 'Street' 'Jahu Mart' 'Janasya' 'Vishudh' 'Miss Chase' 'Vymo'\n",
            " 'Cherimoda' 'Tivante' 'Indibelle' 'Vbuyz' 'Stylum' 'Emeros' 'Demirner'\n",
            " 'Siddiqa' 'Mudras Fashion' 'Jaipuri Bunaai' 'Krulrin' 'Get Glamr'\n",
            " 'Globus' 'Beme' 'Harpa' 'Tessavegas' 'Woclo Enterprise' 'God Bless'\n",
            " 'Sidh Sawai' 'Sassafras' 'Dmprsn' 'Dviera Trendz' 'Nayo' 'Shakshi' 'Rare'\n",
            " 'Mialo Fashion' 'Juniper' 'Nk Design' 'Leetos' 'Daisy' 'Ziva Fashion'\n",
            " 'Zopdi' 'House of common' 'Selvia' 'Supbir' 'Glomee' 'U&F' 'Sheffali'\n",
            " 'Ketch' 'Wazix Clothing' 'Dressberry' 'Athena' 'Instafab Plus'\n",
            " 'Sheladiya' 'Rieka' 'Negen' 'Mishti Fashion' 'Twirl Tales' 'Sv Suveena'\n",
            " 'Jwf' 'Khushi Fab' 'Quiero' 'Herway' 'Presha' 'Olandcasual'\n",
            " 'Manisukmi Fashion' 'Rkk Llection' 'Winered' 'Oomph' 'Pehnava Point'\n",
            " 'Rapl Bharat' 'Fashion Cloud' 'Kotty' 'Aditya Llection' 'Tilton'\n",
            " 'Modli  Fashion' 'Glolick' 'Asifarheen' 'Slenor' 'Kair' 'Henal' 'Yovina'\n",
            " 'Style stone' 'Simran' 'Rebikatrendz' 'Vaararo' 'Sifoz' 'Pristyle'\n",
            " 'Divena' 'Polka Fashion' 'Life With Pockets' 'Bhli' 'Fashion Unstoppable'\n",
            " 'Aashley' 'French Nnection' 'Handsome King' 'S P Stour' 'Starword'\n",
            " 'Dwarros' 'Maruti Nandan Impex' 'Rosery Paris' 'Sztori' 'Sn Studio'\n",
            " 'Aarikaari' 'Kalaliya' 'Runicha' 'As fashion' 'Apnisha' 'Fancify'\n",
            " 'Satveer Fashion' 'Purple Flaunt' 'Assamica' 'The Dry State'\n",
            " 'Leriya Fashion' 'Fabfairy' 'Rd Fab' 'Kassually' 'Lookshine' 'Nehamta'\n",
            " 'Gonerdham' 'Bhardvaj K Fab' 'Jkmisti' 'Diyaz' 'Kilkilat' 'Addyvero'\n",
            " 'Enchanted Drapes' 'Schiffli' 'Whoosee' 'Addicted Attire' 'Anuom'\n",
            " 'Jn Lofty' 'Fabrisacreation' 'Raaka' 'Woowzerz' 'Lahaba' 'Maa Amar Fab'\n",
            " 'Akshara Fashion' 'Sirrowfab' 'Metronaut' 'Prettyplus' 'Irtiqa'\n",
            " 'Asfebrics' 'Gromint' 'Eyebogler' 'Mahesvar' 'Kamayra' 'Kpf' 'Punky'\n",
            " 'Surgiline' 'Fbella' 'Buy unique Fashion' 'Traquila' 'Oniyuri' 'Omi'\n",
            " 'Kalki Fashion' 'Jiyakurti' 'Harivani' 'Labhanshi Creation' 'Shrivani'\n",
            " 'Pahnaava' 'Kotton Maxx' 'Elitestar' 'Otabu' 'Florinest' 'Fabverse'\n",
            " 'Sana Fashions' 'Ozex' 'Rigo' 'Nwh' 'Clothmnet' 'Foxdx' 'Max' 'Zayn'\n",
            " 'Gulabi Jaipur' 'Berrylush Curve' 'Flowervelly' 'Jmdenterprises' 'Zarvey'\n",
            " 'Cadizar' 'Levifield' 'Raiyani Enterprise' 'Glamalue' 'Prime Mart'\n",
            " 'Vijay Garments' 'Qena' 'Fabfinds' 'Deewa' 'Malia Fashion' 'Kashishiya'\n",
            " 'Hardik Fab' 'Maaesa']\n",
            "\n",
            "✅ Brand counts:\n",
            "Brand\n",
            "Tokyo Talkies    107\n",
            "Aayu              49\n",
            "Fashion wear      22\n",
            "Sassafras         20\n",
            "Selvia            19\n",
            "                ... \n",
            "Deewa              1\n",
            "Malia Fashion      1\n",
            "Kashishiya         1\n",
            "Hardik Fab         1\n",
            "Maaesa             1\n",
            "Name: count, Length: 233, dtype: int64\n"
          ]
        }
      ]
    },
    {
      "cell_type": "markdown",
      "source": [
        "# 8. Save Cleaned Dataset"
      ],
      "metadata": {
        "id": "vqVbXPAAZKVq"
      }
    },
    {
      "cell_type": "code",
      "source": [
        "df_cleaned.to_csv(\"women_dresses_cleaned.csv\", index=False)\n",
        "print(\"Cleaned data saved to 'women_dresses_cleaned.csv' and available as df_cleaned DataFrame\")"
      ],
      "metadata": {
        "id": "B5RkpFHt1bbV",
        "colab": {
          "base_uri": "https://localhost:8080/"
        },
        "outputId": "459ad143-6692-427a-99c3-9526128b4f59"
      },
      "execution_count": null,
      "outputs": [
        {
          "output_type": "stream",
          "name": "stdout",
          "text": [
            "Cleaned data saved to 'women_dresses_cleaned.csv' and available as df_cleaned DataFrame\n"
          ]
        }
      ]
    }
  ]
}