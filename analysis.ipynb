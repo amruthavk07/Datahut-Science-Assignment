{
  "nbformat": 4,
  "nbformat_minor": 0,
  "metadata": {
    "colab": {
      "provenance": []
    },
    "kernelspec": {
      "name": "python3",
      "display_name": "Python 3"
    },
    "language_info": {
      "name": "python"
    }
  },
  "cells": [
    {
      "cell_type": "code",
      "execution_count": null,
      "metadata": {
        "id": "ntbKbPWKa0TE"
      },
      "outputs": [],
      "source": [
        "import pandas as pd\n",
        "import numpy as np\n",
        "import matplotlib.pyplot as plt\n",
        "import seaborn as sns"
      ]
    },
    {
      "cell_type": "code",
      "source": [
        "df = pd.read_csv(\"/content/drive/MyDrive/Datahut Qa Assignment/women_dresses_cleaned.csv\")\n",
        "df.head()"
      ],
      "metadata": {
        "colab": {
          "base_uri": "https://localhost:8080/",
          "height": 310
        },
        "id": "2rNR0EQDbPPQ",
        "outputId": "f9849b4c-24d9-4c40-91fb-7e708d298739"
      },
      "execution_count": null,
      "outputs": [
        {
          "output_type": "execute_result",
          "data": {
            "text/plain": [
              "                                      Product Name          Brand  \\\n",
              "0            Women Layered Black Knee Length Dress          Deris   \n",
              "1   Women Fit and Flare Red Midi/Calf Length Dress  Stylish Arrow   \n",
              "2         Women Gown Maroon Midi/Calf Length Dress       Rangrail   \n",
              "3  Women Fit and Flare Blue Midi/Calf Length Dress   Fashion wear   \n",
              "4         Women A-line Gold Midi/Calf Length Dress        Zwerlon   \n",
              "\n",
              "  Category Type  MRP (Maximum Retail Price)  Discounted Price / Sale Price  \\\n",
              "0       Unknown                        1299                            258   \n",
              "1          Midi                         999                            357   \n",
              "2          Midi                        2499                            369   \n",
              "3          Midi                         999                            460   \n",
              "4          Midi                        1999                            414   \n",
              "\n",
              "   Rating  Number of Reviews  \\\n",
              "0     4.2                235   \n",
              "1     0.0                  0   \n",
              "2     3.6                 12   \n",
              "3     3.9                357   \n",
              "4     4.1               5344   \n",
              "\n",
              "                                         Product URL  \n",
              "0  https://www.flipkart.com/neha-fashions-women-l...  \n",
              "1  https://www.flipkart.com/stylish-arrow-women-f...  \n",
              "2  https://www.flipkart.com/rangrail-women-gown-m...  \n",
              "3  https://www.flipkart.com/fashion2wear-women-fi...  \n",
              "4  https://www.flipkart.com/zwerlon-women-a-line-...  "
            ],
            "text/html": [
              "\n",
              "  <div id=\"df-e28870d2-0e37-4663-ba63-84c53c9f0ce6\" class=\"colab-df-container\">\n",
              "    <div>\n",
              "<style scoped>\n",
              "    .dataframe tbody tr th:only-of-type {\n",
              "        vertical-align: middle;\n",
              "    }\n",
              "\n",
              "    .dataframe tbody tr th {\n",
              "        vertical-align: top;\n",
              "    }\n",
              "\n",
              "    .dataframe thead th {\n",
              "        text-align: right;\n",
              "    }\n",
              "</style>\n",
              "<table border=\"1\" class=\"dataframe\">\n",
              "  <thead>\n",
              "    <tr style=\"text-align: right;\">\n",
              "      <th></th>\n",
              "      <th>Product Name</th>\n",
              "      <th>Brand</th>\n",
              "      <th>Category Type</th>\n",
              "      <th>MRP (Maximum Retail Price)</th>\n",
              "      <th>Discounted Price / Sale Price</th>\n",
              "      <th>Rating</th>\n",
              "      <th>Number of Reviews</th>\n",
              "      <th>Product URL</th>\n",
              "    </tr>\n",
              "  </thead>\n",
              "  <tbody>\n",
              "    <tr>\n",
              "      <th>0</th>\n",
              "      <td>Women Layered Black Knee Length Dress</td>\n",
              "      <td>Deris</td>\n",
              "      <td>Unknown</td>\n",
              "      <td>1299</td>\n",
              "      <td>258</td>\n",
              "      <td>4.2</td>\n",
              "      <td>235</td>\n",
              "      <td>https://www.flipkart.com/neha-fashions-women-l...</td>\n",
              "    </tr>\n",
              "    <tr>\n",
              "      <th>1</th>\n",
              "      <td>Women Fit and Flare Red Midi/Calf Length Dress</td>\n",
              "      <td>Stylish Arrow</td>\n",
              "      <td>Midi</td>\n",
              "      <td>999</td>\n",
              "      <td>357</td>\n",
              "      <td>0.0</td>\n",
              "      <td>0</td>\n",
              "      <td>https://www.flipkart.com/stylish-arrow-women-f...</td>\n",
              "    </tr>\n",
              "    <tr>\n",
              "      <th>2</th>\n",
              "      <td>Women Gown Maroon Midi/Calf Length Dress</td>\n",
              "      <td>Rangrail</td>\n",
              "      <td>Midi</td>\n",
              "      <td>2499</td>\n",
              "      <td>369</td>\n",
              "      <td>3.6</td>\n",
              "      <td>12</td>\n",
              "      <td>https://www.flipkart.com/rangrail-women-gown-m...</td>\n",
              "    </tr>\n",
              "    <tr>\n",
              "      <th>3</th>\n",
              "      <td>Women Fit and Flare Blue Midi/Calf Length Dress</td>\n",
              "      <td>Fashion wear</td>\n",
              "      <td>Midi</td>\n",
              "      <td>999</td>\n",
              "      <td>460</td>\n",
              "      <td>3.9</td>\n",
              "      <td>357</td>\n",
              "      <td>https://www.flipkart.com/fashion2wear-women-fi...</td>\n",
              "    </tr>\n",
              "    <tr>\n",
              "      <th>4</th>\n",
              "      <td>Women A-line Gold Midi/Calf Length Dress</td>\n",
              "      <td>Zwerlon</td>\n",
              "      <td>Midi</td>\n",
              "      <td>1999</td>\n",
              "      <td>414</td>\n",
              "      <td>4.1</td>\n",
              "      <td>5344</td>\n",
              "      <td>https://www.flipkart.com/zwerlon-women-a-line-...</td>\n",
              "    </tr>\n",
              "  </tbody>\n",
              "</table>\n",
              "</div>\n",
              "    <div class=\"colab-df-buttons\">\n",
              "\n",
              "  <div class=\"colab-df-container\">\n",
              "    <button class=\"colab-df-convert\" onclick=\"convertToInteractive('df-e28870d2-0e37-4663-ba63-84c53c9f0ce6')\"\n",
              "            title=\"Convert this dataframe to an interactive table.\"\n",
              "            style=\"display:none;\">\n",
              "\n",
              "  <svg xmlns=\"http://www.w3.org/2000/svg\" height=\"24px\" viewBox=\"0 -960 960 960\">\n",
              "    <path d=\"M120-120v-720h720v720H120Zm60-500h600v-160H180v160Zm220 220h160v-160H400v160Zm0 220h160v-160H400v160ZM180-400h160v-160H180v160Zm440 0h160v-160H620v160ZM180-180h160v-160H180v160Zm440 0h160v-160H620v160Z\"/>\n",
              "  </svg>\n",
              "    </button>\n",
              "\n",
              "  <style>\n",
              "    .colab-df-container {\n",
              "      display:flex;\n",
              "      gap: 12px;\n",
              "    }\n",
              "\n",
              "    .colab-df-convert {\n",
              "      background-color: #E8F0FE;\n",
              "      border: none;\n",
              "      border-radius: 50%;\n",
              "      cursor: pointer;\n",
              "      display: none;\n",
              "      fill: #1967D2;\n",
              "      height: 32px;\n",
              "      padding: 0 0 0 0;\n",
              "      width: 32px;\n",
              "    }\n",
              "\n",
              "    .colab-df-convert:hover {\n",
              "      background-color: #E2EBFA;\n",
              "      box-shadow: 0px 1px 2px rgba(60, 64, 67, 0.3), 0px 1px 3px 1px rgba(60, 64, 67, 0.15);\n",
              "      fill: #174EA6;\n",
              "    }\n",
              "\n",
              "    .colab-df-buttons div {\n",
              "      margin-bottom: 4px;\n",
              "    }\n",
              "\n",
              "    [theme=dark] .colab-df-convert {\n",
              "      background-color: #3B4455;\n",
              "      fill: #D2E3FC;\n",
              "    }\n",
              "\n",
              "    [theme=dark] .colab-df-convert:hover {\n",
              "      background-color: #434B5C;\n",
              "      box-shadow: 0px 1px 3px 1px rgba(0, 0, 0, 0.15);\n",
              "      filter: drop-shadow(0px 1px 2px rgba(0, 0, 0, 0.3));\n",
              "      fill: #FFFFFF;\n",
              "    }\n",
              "  </style>\n",
              "\n",
              "    <script>\n",
              "      const buttonEl =\n",
              "        document.querySelector('#df-e28870d2-0e37-4663-ba63-84c53c9f0ce6 button.colab-df-convert');\n",
              "      buttonEl.style.display =\n",
              "        google.colab.kernel.accessAllowed ? 'block' : 'none';\n",
              "\n",
              "      async function convertToInteractive(key) {\n",
              "        const element = document.querySelector('#df-e28870d2-0e37-4663-ba63-84c53c9f0ce6');\n",
              "        const dataTable =\n",
              "          await google.colab.kernel.invokeFunction('convertToInteractive',\n",
              "                                                    [key], {});\n",
              "        if (!dataTable) return;\n",
              "\n",
              "        const docLinkHtml = 'Like what you see? Visit the ' +\n",
              "          '<a target=\"_blank\" href=https://colab.research.google.com/notebooks/data_table.ipynb>data table notebook</a>'\n",
              "          + ' to learn more about interactive tables.';\n",
              "        element.innerHTML = '';\n",
              "        dataTable['output_type'] = 'display_data';\n",
              "        await google.colab.output.renderOutput(dataTable, element);\n",
              "        const docLink = document.createElement('div');\n",
              "        docLink.innerHTML = docLinkHtml;\n",
              "        element.appendChild(docLink);\n",
              "      }\n",
              "    </script>\n",
              "  </div>\n",
              "\n",
              "\n",
              "    <div id=\"df-7f9c9dbc-fb0b-4638-941b-4882a8527e7a\">\n",
              "      <button class=\"colab-df-quickchart\" onclick=\"quickchart('df-7f9c9dbc-fb0b-4638-941b-4882a8527e7a')\"\n",
              "                title=\"Suggest charts\"\n",
              "                style=\"display:none;\">\n",
              "\n",
              "<svg xmlns=\"http://www.w3.org/2000/svg\" height=\"24px\"viewBox=\"0 0 24 24\"\n",
              "     width=\"24px\">\n",
              "    <g>\n",
              "        <path d=\"M19 3H5c-1.1 0-2 .9-2 2v14c0 1.1.9 2 2 2h14c1.1 0 2-.9 2-2V5c0-1.1-.9-2-2-2zM9 17H7v-7h2v7zm4 0h-2V7h2v10zm4 0h-2v-4h2v4z\"/>\n",
              "    </g>\n",
              "</svg>\n",
              "      </button>\n",
              "\n",
              "<style>\n",
              "  .colab-df-quickchart {\n",
              "      --bg-color: #E8F0FE;\n",
              "      --fill-color: #1967D2;\n",
              "      --hover-bg-color: #E2EBFA;\n",
              "      --hover-fill-color: #174EA6;\n",
              "      --disabled-fill-color: #AAA;\n",
              "      --disabled-bg-color: #DDD;\n",
              "  }\n",
              "\n",
              "  [theme=dark] .colab-df-quickchart {\n",
              "      --bg-color: #3B4455;\n",
              "      --fill-color: #D2E3FC;\n",
              "      --hover-bg-color: #434B5C;\n",
              "      --hover-fill-color: #FFFFFF;\n",
              "      --disabled-bg-color: #3B4455;\n",
              "      --disabled-fill-color: #666;\n",
              "  }\n",
              "\n",
              "  .colab-df-quickchart {\n",
              "    background-color: var(--bg-color);\n",
              "    border: none;\n",
              "    border-radius: 50%;\n",
              "    cursor: pointer;\n",
              "    display: none;\n",
              "    fill: var(--fill-color);\n",
              "    height: 32px;\n",
              "    padding: 0;\n",
              "    width: 32px;\n",
              "  }\n",
              "\n",
              "  .colab-df-quickchart:hover {\n",
              "    background-color: var(--hover-bg-color);\n",
              "    box-shadow: 0 1px 2px rgba(60, 64, 67, 0.3), 0 1px 3px 1px rgba(60, 64, 67, 0.15);\n",
              "    fill: var(--button-hover-fill-color);\n",
              "  }\n",
              "\n",
              "  .colab-df-quickchart-complete:disabled,\n",
              "  .colab-df-quickchart-complete:disabled:hover {\n",
              "    background-color: var(--disabled-bg-color);\n",
              "    fill: var(--disabled-fill-color);\n",
              "    box-shadow: none;\n",
              "  }\n",
              "\n",
              "  .colab-df-spinner {\n",
              "    border: 2px solid var(--fill-color);\n",
              "    border-color: transparent;\n",
              "    border-bottom-color: var(--fill-color);\n",
              "    animation:\n",
              "      spin 1s steps(1) infinite;\n",
              "  }\n",
              "\n",
              "  @keyframes spin {\n",
              "    0% {\n",
              "      border-color: transparent;\n",
              "      border-bottom-color: var(--fill-color);\n",
              "      border-left-color: var(--fill-color);\n",
              "    }\n",
              "    20% {\n",
              "      border-color: transparent;\n",
              "      border-left-color: var(--fill-color);\n",
              "      border-top-color: var(--fill-color);\n",
              "    }\n",
              "    30% {\n",
              "      border-color: transparent;\n",
              "      border-left-color: var(--fill-color);\n",
              "      border-top-color: var(--fill-color);\n",
              "      border-right-color: var(--fill-color);\n",
              "    }\n",
              "    40% {\n",
              "      border-color: transparent;\n",
              "      border-right-color: var(--fill-color);\n",
              "      border-top-color: var(--fill-color);\n",
              "    }\n",
              "    60% {\n",
              "      border-color: transparent;\n",
              "      border-right-color: var(--fill-color);\n",
              "    }\n",
              "    80% {\n",
              "      border-color: transparent;\n",
              "      border-right-color: var(--fill-color);\n",
              "      border-bottom-color: var(--fill-color);\n",
              "    }\n",
              "    90% {\n",
              "      border-color: transparent;\n",
              "      border-bottom-color: var(--fill-color);\n",
              "    }\n",
              "  }\n",
              "</style>\n",
              "\n",
              "      <script>\n",
              "        async function quickchart(key) {\n",
              "          const quickchartButtonEl =\n",
              "            document.querySelector('#' + key + ' button');\n",
              "          quickchartButtonEl.disabled = true;  // To prevent multiple clicks.\n",
              "          quickchartButtonEl.classList.add('colab-df-spinner');\n",
              "          try {\n",
              "            const charts = await google.colab.kernel.invokeFunction(\n",
              "                'suggestCharts', [key], {});\n",
              "          } catch (error) {\n",
              "            console.error('Error during call to suggestCharts:', error);\n",
              "          }\n",
              "          quickchartButtonEl.classList.remove('colab-df-spinner');\n",
              "          quickchartButtonEl.classList.add('colab-df-quickchart-complete');\n",
              "        }\n",
              "        (() => {\n",
              "          let quickchartButtonEl =\n",
              "            document.querySelector('#df-7f9c9dbc-fb0b-4638-941b-4882a8527e7a button');\n",
              "          quickchartButtonEl.style.display =\n",
              "            google.colab.kernel.accessAllowed ? 'block' : 'none';\n",
              "        })();\n",
              "      </script>\n",
              "    </div>\n",
              "\n",
              "    </div>\n",
              "  </div>\n"
            ],
            "application/vnd.google.colaboratory.intrinsic+json": {
              "type": "dataframe",
              "variable_name": "df",
              "summary": "{\n  \"name\": \"df\",\n  \"rows\": 690,\n  \"fields\": [\n    {\n      \"column\": \"Product Name\",\n      \"properties\": {\n        \"dtype\": \"string\",\n        \"num_unique_values\": 390,\n        \"samples\": [\n          \"Women Bodycon Purple Midi/Calf Length Dress\",\n          \"Women Fit and Flare Blue, White Midi/Calf Length Dress\",\n          \"Women Fit and Flare Green Midi/Calf Length Dress\"\n        ],\n        \"semantic_type\": \"\",\n        \"description\": \"\"\n      }\n    },\n    {\n      \"column\": \"Brand\",\n      \"properties\": {\n        \"dtype\": \"category\",\n        \"num_unique_values\": 233,\n        \"samples\": [\n          \"House of common\",\n          \"Berrylush Curve\",\n          \"Hardik Fab\"\n        ],\n        \"semantic_type\": \"\",\n        \"description\": \"\"\n      }\n    },\n    {\n      \"column\": \"Category Type\",\n      \"properties\": {\n        \"dtype\": \"category\",\n        \"num_unique_values\": 9,\n        \"samples\": [\n          \"Gown\",\n          \"Midi\",\n          \"Bodycon\"\n        ],\n        \"semantic_type\": \"\",\n        \"description\": \"\"\n      }\n    },\n    {\n      \"column\": \"MRP (Maximum Retail Price)\",\n      \"properties\": {\n        \"dtype\": \"number\",\n        \"std\": 720,\n        \"min\": 299,\n        \"max\": 5995,\n        \"num_unique_values\": 112,\n        \"samples\": [\n          1249,\n          4599,\n          1699\n        ],\n        \"semantic_type\": \"\",\n        \"description\": \"\"\n      }\n    },\n    {\n      \"column\": \"Discounted Price / Sale Price\",\n      \"properties\": {\n        \"dtype\": \"number\",\n        \"std\": 219,\n        \"min\": 200,\n        \"max\": 1517,\n        \"num_unique_values\": 288,\n        \"samples\": [\n          423,\n          695,\n          299\n        ],\n        \"semantic_type\": \"\",\n        \"description\": \"\"\n      }\n    },\n    {\n      \"column\": \"Rating\",\n      \"properties\": {\n        \"dtype\": \"number\",\n        \"std\": 0.8266794153264816,\n        \"min\": 0.0,\n        \"max\": 5.0,\n        \"num_unique_values\": 22,\n        \"samples\": [\n          4.2,\n          3.5,\n          3.3\n        ],\n        \"semantic_type\": \"\",\n        \"description\": \"\"\n      }\n    },\n    {\n      \"column\": \"Number of Reviews\",\n      \"properties\": {\n        \"dtype\": \"number\",\n        \"std\": 1047,\n        \"min\": 0,\n        \"max\": 9511,\n        \"num_unique_values\": 232,\n        \"samples\": [\n          44,\n          30,\n          345\n        ],\n        \"semantic_type\": \"\",\n        \"description\": \"\"\n      }\n    },\n    {\n      \"column\": \"Product URL\",\n      \"properties\": {\n        \"dtype\": \"string\",\n        \"num_unique_values\": 688,\n        \"samples\": [\n          \"https://www.flipkart.com/kaircollection-women-fit-flare-maroon-maxi-full-length-dress/p/itm2a248b2fe52a0\",\n          \"https://www.flipkart.com/metronaut-women-a-line-black-maxi-full-length-dress/p/itmee61109bd0fc9\",\n          \"https://www.flipkart.com/herway-women-a-line-blue-midi-calf-length-dress/p/itmb682541a64767\"\n        ],\n        \"semantic_type\": \"\",\n        \"description\": \"\"\n      }\n    }\n  ]\n}"
            }
          },
          "metadata": {},
          "execution_count": 2
        }
      ]
    },
    {
      "cell_type": "markdown",
      "source": [
        "# **Data Analysis**"
      ],
      "metadata": {
        "id": "a6gCga8wdPIz"
      }
    },
    {
      "cell_type": "markdown",
      "source": [
        "# 1. Descriptive Statistics"
      ],
      "metadata": {
        "id": "XpiZEniLb-jC"
      }
    },
    {
      "cell_type": "code",
      "source": [
        "print(\"📌 Descriptive Statistics for Prices & Ratings\\n\")\n",
        "\n",
        "cols = [\"MRP (Maximum Retail Price)\", \"Discounted Price / Sale Price\", \"Rating\"]\n",
        "price_stats = df[cols].describe().T\n",
        "price_stats[\"median\"] = df[cols].median()\n",
        "price_stats = price_stats.round(2)\n",
        "\n",
        "print(price_stats)"
      ],
      "metadata": {
        "colab": {
          "base_uri": "https://localhost:8080/"
        },
        "id": "EFHqdjRjbgjx",
        "outputId": "c885244e-e4bd-4456-a4e9-edfc8f74249d"
      },
      "execution_count": null,
      "outputs": [
        {
          "output_type": "stream",
          "name": "stdout",
          "text": [
            "📌 Descriptive Statistics for Prices & Ratings\n",
            "\n",
            "                               count     mean     std    min     25%     50%  \\\n",
            "MRP (Maximum Retail Price)     690.0  2033.08  720.12  299.0  1499.0  1999.0   \n",
            "Discounted Price / Sale Price  690.0   533.80  219.03  200.0   392.0   467.0   \n",
            "Rating                         690.0     3.84    0.83    0.0     3.8     4.0   \n",
            "\n",
            "                                   75%     max  median  \n",
            "MRP (Maximum Retail Price)     2499.00  5995.0  1999.0  \n",
            "Discounted Price / Sale Price   649.75  1517.0   467.0  \n",
            "Rating                            4.10     5.0     4.0  \n"
          ]
        }
      ]
    },
    {
      "cell_type": "markdown",
      "source": [
        "# 2. Brand Analysis"
      ],
      "metadata": {
        "id": "F0CZc6b5cA-O"
      }
    },
    {
      "cell_type": "code",
      "source": [
        "print(\"\\n📌 Top 5 Brands by Number of Products\\n\")\n",
        "top_brands = df[\"Brand\"].value_counts().head(5)\n",
        "print(top_brands)"
      ],
      "metadata": {
        "colab": {
          "base_uri": "https://localhost:8080/"
        },
        "id": "rrrr32SbblDc",
        "outputId": "c43c7f85-81b1-45c1-b08f-6798448d9a18"
      },
      "execution_count": null,
      "outputs": [
        {
          "output_type": "stream",
          "name": "stdout",
          "text": [
            "\n",
            "📌 Top 5 Brands by Number of Products\n",
            "\n",
            "Brand\n",
            "Tokyo Talkies    107\n",
            "Aayu              49\n",
            "Fashion wear      22\n",
            "Sassafras         20\n",
            "Selvia            19\n",
            "Name: count, dtype: int64\n"
          ]
        }
      ]
    },
    {
      "cell_type": "markdown",
      "source": [
        "#3. Discount Analysis"
      ],
      "metadata": {
        "id": "4L8Qwi4xcNTE"
      }
    },
    {
      "cell_type": "code",
      "source": [
        "print(\"\\n📌 Brands with Highest Average Discount (%)\\n\")\n",
        "\n",
        "# Calculate discount percentage\n",
        "df[\"Discount %\"] = ((df[\"MRP (Maximum Retail Price)\"] - df[\"Discounted Price / Sale Price\"]) / df[\"MRP (Maximum Retail Price)\"]) * 100\n",
        "\n",
        "# Group by Brand and calculate average discount, then sort\n",
        "discount_analysis = df.groupby(\"Brand\")[\"Discount %\"].mean().sort_values(ascending=False).head(10).round(2)\n",
        "\n",
        "print(discount_analysis)"
      ],
      "metadata": {
        "colab": {
          "base_uri": "https://localhost:8080/"
        },
        "id": "5DRrADBVcI_y",
        "outputId": "c54eb159-28eb-46d7-f9d4-add46a31bc89"
      },
      "execution_count": null,
      "outputs": [
        {
          "output_type": "stream",
          "name": "stdout",
          "text": [
            "\n",
            "📌 Brands with Highest Average Discount (%)\n",
            "\n",
            "Brand\n",
            "Tilton            91.34\n",
            "Jkmisti           88.87\n",
            "Kamayra           88.66\n",
            "Jaipuri Bunaai    88.12\n",
            "Rieka             87.03\n",
            "Doresuzaa         86.93\n",
            "Pristyle          86.23\n",
            "Harivani          86.04\n",
            "The Dry State     85.82\n",
            "As fashion        85.74\n",
            "Name: Discount %, dtype: float64\n"
          ]
        }
      ]
    },
    {
      "cell_type": "markdown",
      "source": [
        "# 4. Category-Specific Insights"
      ],
      "metadata": {
        "id": "JpEAKfhVcoSa"
      }
    },
    {
      "cell_type": "code",
      "source": [
        "print(\"\\n📌 Category Type Pricing & Rating Trends\\n\")\n",
        "category_insights = df.groupby(\"Category Type\").agg({\n",
        "    \"MRP (Maximum Retail Price)\": [\"mean\", \"min\", \"max\"],\n",
        "    \"Discounted Price / Sale Price\": [\"mean\", \"min\", \"max\"],\n",
        "    \"Rating\": [\"mean\", \"min\", \"max\"]\n",
        "}).round(2)\n",
        "\n",
        "print(category_insights)"
      ],
      "metadata": {
        "colab": {
          "base_uri": "https://localhost:8080/"
        },
        "id": "vnzCZG5ZcXEN",
        "outputId": "1b2b49bc-adf5-4852-f4d7-4179cf34eab3"
      },
      "execution_count": null,
      "outputs": [
        {
          "output_type": "stream",
          "name": "stdout",
          "text": [
            "\n",
            "📌 Category Type Pricing & Rating Trends\n",
            "\n",
            "              MRP (Maximum Retail Price)              \\\n",
            "                                    mean   min   max   \n",
            "Category Type                                          \n",
            "A-line                           1917.93   999  3999   \n",
            "Bodycon                          1892.22   786  4099   \n",
            "Fit and Flare                    1799.03   499  3999   \n",
            "Gown                             1788.11   999  2999   \n",
            "Kaftan                           1399.00  1299  1499   \n",
            "Maxi                             2244.15   799  5700   \n",
            "Midi                             2063.83   299  5995   \n",
            "Shift                             949.00   949   949   \n",
            "Unknown                          1869.06   949  4999   \n",
            "\n",
            "              Discounted Price / Sale Price            Rating            \n",
            "                                       mean  min   max   mean  min  max  \n",
            "Category Type                                                            \n",
            "A-line                               495.49  212  1120   3.96  0.0  5.0  \n",
            "Bodycon                              499.89  200  1189   3.83  0.0  4.8  \n",
            "Fit and Flare                        495.12  239  1200   3.80  0.0  5.0  \n",
            "Gown                                 420.33  355   544   3.86  3.6  4.0  \n",
            "Kaftan                               393.00  388   398   3.80  3.7  3.9  \n",
            "Maxi                                 578.65  231  1517   3.90  0.0  4.6  \n",
            "Midi                                 542.46  200  1499   3.76  0.0  5.0  \n",
            "Shift                                284.00  284   284   3.90  3.9  3.9  \n",
            "Unknown                              501.70  245   959   3.96  0.0  4.5  \n"
          ]
        }
      ]
    }
  ]
}